{
 "cells": [
  {
   "cell_type": "code",
   "metadata": {
    "collapsed": true,
    "ExecuteTime": {
     "end_time": "2025-01-28T16:56:33.709309Z",
     "start_time": "2025-01-28T16:56:33.701197Z"
    }
   },
   "source": [
    "from decimal import Decimal, ROUND_DOWN, ROUND_UP, getcontext\n",
    "\n",
    "def to_decimal(value, precision=None, side=ROUND_UP):\n",
    "    value = Decimal(value)\n",
    "    if precision is not None:\n",
    "        value = value.quantize(Decimal(str(pow(10, -precision))), rounding=side)\n",
    "    return value\n",
    "\n",
    "getcontext().prec = 8  # Set the precision you need\n",
    " \n",
    "min_quantity_cost_usdt = to_decimal('3')\n",
    "profit = to_decimal('0.002')\n",
    "current_price = to_decimal('0.006066')\n",
    "commission = to_decimal('0.001')  # Binance commission for regular users\n",
    "rounding_factor_base_amount = 3  # Minimum rounding factor for TOMO\n",
    "rounding_factor_price_order = 8  # Minimum rounding factor for price"
   ],
   "outputs": [],
   "execution_count": 1
  },
  {
   "cell_type": "code",
   "metadata": {
    "ExecuteTime": {
     "end_time": "2025-01-28T16:56:33.724822Z",
     "start_time": "2025-01-28T16:56:33.710823Z"
    }
   },
   "source": [
    "\n",
    "total_profit_and_commission = profit + 1 * commission \n",
    "\n",
    "buy_price = current_price / (1 + (2 * commission))\n",
    "buy_price = to_decimal(buy_price, precision=rounding_factor_price_order, side=ROUND_DOWN)\n",
    "\n",
    "buy_amount = min_quantity_cost_usdt / buy_price\n",
    "buy_amount = to_decimal(buy_amount, precision=rounding_factor_base_amount, side=ROUND_UP)\n",
    "\n",
    "buy_amount_after_commission = buy_amount * (1 - commission)\n",
    "buy_amount_after_commission = to_decimal(buy_amount_after_commission, precision=rounding_factor_base_amount, side=ROUND_DOWN)\n",
    "\n",
    "# Calculate sell price and amount\n",
    "sell_price = buy_price * (1 + total_profit_and_commission)\n",
    "sell_price = to_decimal(sell_price, precision=rounding_factor_price_order, side=ROUND_UP)\n",
    "\n",
    "sell_amount = buy_amount_after_commission  # We sell the amount that we actually got after buying\n",
    "\n",
    "# Calculate initial cost and final return\n",
    "initial_cost = buy_price * buy_amount\n",
    "final_return = sell_price * sell_amount * (1 - commission)  # Adjust for commission\n",
    "\n",
    "# Calculate profit\n",
    "profit = final_return - initial_cost"
   ],
   "outputs": [],
   "execution_count": 2
  },
  {
   "cell_type": "code",
   "metadata": {
    "ExecuteTime": {
     "end_time": "2025-01-28T16:56:33.739826Z",
     "start_time": "2025-01-28T16:56:33.725824Z"
    }
   },
   "source": [
    "# Print results\n",
    "print('buy_price :', buy_price)\n",
    "print('buy_amount :', buy_amount)\n",
    "print('buy_amount_after_commission :', buy_amount_after_commission)\n",
    "print('sell_price', sell_price)\n",
    "print('sell_amount', sell_amount)\n",
    "print('initial_cost :', initial_cost)\n",
    "print('final_return :', final_return)\n",
    "print('profit :', profit)"
   ],
   "outputs": [
    {
     "name": "stdout",
     "output_type": "stream",
     "text": [
      "buy_price : 0.00605389\n",
      "buy_amount : 495.550\n",
      "buy_amount_after_commission : 495.054\n",
      "sell_price 0.00607206\n",
      "sell_amount 495.054\n",
      "initial_cost : 3.0000052\n",
      "final_return : 3.0029916\n",
      "profit : 0.0029864\n"
     ]
    }
   ],
   "execution_count": 3
  }
 ],
 "metadata": {
  "kernelspec": {
   "display_name": "Python 3",
   "language": "python",
   "name": "python3"
  },
  "language_info": {
   "codemirror_mode": {
    "name": "ipython",
    "version": 3
   },
   "file_extension": ".py",
   "mimetype": "text/x-python",
   "name": "python",
   "nbconvert_exporter": "python",
   "pygments_lexer": "ipython3",
   "version": "3.9.18"
  }
 },
 "nbformat": 4,
 "nbformat_minor": 0
}
